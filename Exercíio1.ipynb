{
 "cells": [
  {
   "cell_type": "markdown",
   "metadata": {},
   "source": [
    "# Exercício 1\n",
    "\n",
    "## Jogadores de PSG e Real Madrid\n",
    "\n",
    "### Os dados a seguir representam os 10 salários anuais mais altos dos jogadores do Paris Saint-Germain (PSG) e Real Madrid (Real) em milhões de euros."
   ]
  },
  {
   "cell_type": "code",
   "execution_count": 1,
   "metadata": {},
   "outputs": [],
   "source": [
    "psg_players = ['Neymar','Mbappé','Thiago Silva','Cavani','Marquinhos','Verratti','Di Maria','Navas','Icardi','Paredes']\n",
    "psg_sal = [37,23,18,16,14,14,13,12,10,9]\n",
    "real_players = ['Hazard','Bale','Sergio Ramos','Toni Kroos','Modric','Marcelo','Benzema','James','Courtois','Vinicius']\n",
    "real_sal = [15,15,12,12,11,10,9,9,9,7]"
   ]
  },
  {
   "cell_type": "markdown",
   "metadata": {},
   "source": [
    "## Importando Bibliotecas "
   ]
  },
  {
   "cell_type": "code",
   "execution_count": 4,
   "metadata": {},
   "outputs": [],
   "source": [
    "from scipy.stats import binom, nbinom, poisson, uniform, expon, norm \n",
    "import numpy as np\n",
    "import matplotlib.pyplot as plt\n",
    "import seaborn as sea\n",
    "import statistics as st\n",
    "from scipy import stats\n",
    "import seaborn as sns"
   ]
  },
  {
   "cell_type": "markdown",
   "metadata": {},
   "source": [
    "## Q1. Qual a simetria dos salários do Real?"
   ]
  },
  {
   "cell_type": "markdown",
   "metadata": {},
   "source": [
    "### Box Plot PSG"
   ]
  },
  {
   "cell_type": "code",
   "execution_count": 5,
   "metadata": {},
   "outputs": [
    {
     "data": {
      "text/plain": [
       "<matplotlib.axes._subplots.AxesSubplot at 0x7f317154b438>"
      ]
     },
     "execution_count": 5,
     "metadata": {},
     "output_type": "execute_result"
    },
    {
     "data": {
      "image/png": "[encoded data removed]",
      "text/plain": [
       "<Figure size 432x288 with 1 Axes>"
      ]
     },
     "metadata": {
      "needs_background": "light"
     },
     "output_type": "display_data"
    }
   ],
   "source": [
    "sns.boxplot(psg_sal)"
   ]
  },
  {
   "cell_type": "markdown",
   "metadata": {},
   "source": [
    "### Box Plot Real Madrid"
   ]
  },
  {
   "cell_type": "code",
   "execution_count": 6,
   "metadata": {},
   "outputs": [
    {
     "data": {
      "text/plain": [
       "<matplotlib.axes._subplots.AxesSubplot at 0x7f3171164b70>"
      ]
     },
     "execution_count": 6,
     "metadata": {},
     "output_type": "execute_result"
    },
    {
     "data": {
      "image/png": "[encoded data removed]",
      "text/plain": [
       "<Figure size 432x288 with 1 Axes>"
      ]
     },
     "metadata": {
      "needs_background": "light"
     },
     "output_type": "display_data"
    }
   ],
   "source": [
    "sns.boxplot(real_sal)"
   ]
  },
  {
   "cell_type": "markdown",
   "metadata": {},
   "source": [
    "### Conclusão"
   ]
  },
  {
   "cell_type": "raw",
   "metadata": {},
   "source": [
    "PSG possui salários assimétricos\n",
    "Real Madrid possui salários simétricos"
   ]
  },
  {
   "cell_type": "markdown",
   "metadata": {},
   "source": [
    "## Q2. Em relação a variabilidade dos salários dos dois times, podemos concluir que: "
   ]
  },
  {
   "cell_type": "code",
   "execution_count": 14,
   "metadata": {},
   "outputs": [
    {
     "name": "stdout",
     "output_type": "stream",
     "text": [
      "################### PSG ###################\n",
      "Desvio Padrão:\t\t\t 7.8\n",
      "Média aritmética:\t\t 16.6\n",
      "Mediana:\t\t\t 14.0\n",
      "Variancia:\t\t\t 67.6\n",
      "\n",
      "\n",
      "############### Real Madrid ###############\n",
      "Desvio Padrão:\t\t\t 2.51\n",
      "Média aritmética:\t\t 10.9\n",
      "Mediana:\t\t\t 10.5\n",
      "Variancia:\t\t\t 6.99\n"
     ]
    }
   ],
   "source": [
    "\n",
    "\n",
    "\n",
    "print('################### PSG ###################')\n",
    "\n",
    "print('Desvio Padrão:\\t\\t\\t', round(st.pstdev(psg_sal),2))\n",
    "print('Média aritmética:\\t\\t', st.mean(psg_sal))\n",
    "print('Mediana:\\t\\t\\t', st.median(psg_sal))\n",
    "print('Variancia:\\t\\t\\t', round(st.variance(psg_sal),2))\n",
    "\n",
    "print('\\n')\n",
    "print('############### Real Madrid ###############')\n",
    "\n",
    "print('Desvio Padrão:\\t\\t\\t', round(st.pstdev(real_sal),2))\n",
    "print('Média aritmética:\\t\\t', st.mean(real_sal))\n",
    "print('Mediana:\\t\\t\\t', st.median(real_sal))\n",
    "print('Variancia:\\t\\t\\t', round(st.variance(real_sal),2))"
   ]
  },
  {
   "cell_type": "markdown",
   "metadata": {},
   "source": [
    "### Conclusão "
   ]
  },
  {
   "cell_type": "raw",
   "metadata": {},
   "source": [
    "A variancia de salário do PSG é muito grande, enquanto\n",
    "A variancia de salário do Real é bem baixa"
   ]
  },
  {
   "cell_type": "markdown",
   "metadata": {},
   "source": [
    "##  Q3. Em qual(is) distribuição(ões) dos salários podemos considerar a ocorrência de outliers?"
   ]
  },
  {
   "cell_type": "markdown",
   "metadata": {},
   "source": [
    "### Resposta\n",
    "(1)"
   ]
  },
  {
   "cell_type": "markdown",
   "metadata": {},
   "source": [
    "## Q4. A distribuição de frequência apresenta: "
   ]
  },
  {
   "cell_type": "markdown",
   "metadata": {},
   "source": [
    "### Resposta\n",
    "(A)"
   ]
  },
  {
   "cell_type": "markdown",
   "metadata": {},
   "source": [
    "## O box-plot a seguir representa as notas nos cursos de Direito, Política e Sociedade e Estatística.\n",
    "\n",
    "## Q5. Com base nos resultados podemos concluir que:"
   ]
  },
  {
   "cell_type": "markdown",
   "metadata": {},
   "source": [
    "### Resposta\n",
    "(B)"
   ]
  },
  {
   "cell_type": "markdown",
   "metadata": {},
   "source": [
    "## Q6. Após determinado período de testes, observou-se que o procedimento X de recuperação de dados corre um risco de 2% de não se obter resultados satisfatórios. No procedimento Y, o risco cai para 1%. O risco de ambos os procedimentos apresentarem resposta insatisfatória é de 0,5%. Qual a probabilidade de pelo menos um dos procedimentos apresentar resposta insatisifatória? "
   ]
  },
  {
   "cell_type": "code",
   "execution_count": 16,
   "metadata": {},
   "outputs": [],
   "source": [
    "def get_prob(prob_proce_x, prob_proce_y, prob_def_x, prob_def_y):\n",
    "    total = prob_proce_x * prob_def_x + prob_proce_y * prob_def_y\n",
    "    total *= 100\n",
    "    print(f'{total} %')"
   ]
  },
  {
   "cell_type": "code",
   "execution_count": 20,
   "metadata": {},
   "outputs": [
    {
     "data": {
      "text/plain": [
       "(0.02, 0.01, 0.005, 0.005)"
      ]
     },
     "execution_count": 20,
     "metadata": {},
     "output_type": "execute_result"
    }
   ],
   "source": [
    "   "
   ]
  },
  {
   "cell_type": "code",
   "execution_count": 19,
   "metadata": {},
   "outputs": [
    {
     "data": {
      "text/plain": [
       "0.015000000000000001"
      ]
     },
     "execution_count": 19,
     "metadata": {},
     "output_type": "execute_result"
    }
   ],
   "source": [
    "(0.02 * 0.005 + 0.01 * 0.005) *100"
   ]
  },
  {
   "cell_type": "markdown",
   "metadata": {},
   "source": [
    "## Um sistema tem quatro componentes que operam de forma independente, sendo que cada componente tem probabilidade 0,1 de não funcionar. O sistema é ligado da seguinte forma: "
   ]
  },
  {
   "cell_type": "markdown",
   "metadata": {},
   "source": [
    "## Q7. Qual a probabilidade de o sistema acima funcionar? "
   ]
  },
  {
   "cell_type": "markdown",
   "metadata": {},
   "source": [
    "### Resposta\n",
    "0,9639"
   ]
  },
  {
   "cell_type": "markdown",
   "metadata": {},
   "source": [
    "## Q8. Suponha que 10% dos clientes que compram crédito em uma loja deixam de pagar regularmente suas contas. Se num particular dia, a loja vende a crédito para 10 pessoas, qual a probabilidade de que mais de 20% delas deixem de pagar regularmente as contas?"
   ]
  },
  {
   "cell_type": "markdown",
   "metadata": {},
   "source": [
    "### Resposta\n",
    "0,0702"
   ]
  },
  {
   "cell_type": "markdown",
   "metadata": {},
   "source": [
    "## Q9. Uma rede local de computadores é composta por um servidor e cinco clientes (A, B, C, D e E). Registros anteriores indicam que dos pedidos de determinado tipo de procedimento, realizados através de uma consulta, cerca de 10% vêm do cliente A, 15% do B, 15% do C, 40% do D e 20% do E. Se o pedido não for feito de forma adequada, o processamento apresentará erro. Usualmente, ocorrem os seguintes percentuais de pedidos inadequados: 1% do cliente A, 2% do cliente B, 0,5% do cliente C, 2% do cliente D e 8% do cliente E. Qual a probabilidade de o sistema apresentar erro?"
   ]
  },
  {
   "cell_type": "markdown",
   "metadata": {},
   "source": [
    "### Resposta \n",
    "0,0288"
   ]
  },
  {
   "cell_type": "markdown",
   "metadata": {},
   "source": [
    "## Q10. Um servidor recebe, em média, 300 requisições na hora de maior movimento, e pode processar, no máximo, dez requisições por minuto. Utilizando a distribuição de Poisson, qual a probabilidade de que a capacidade do servidor seja ultrapassado em dado segundo do horário de pico?"
   ]
  },
  {
   "cell_type": "code",
   "execution_count": 21,
   "metadata": {
    "scrolled": true
   },
   "outputs": [
    {
     "data": {
      "text/plain": [
       "'\\nTemos pela Distribuição de Poisson que:\\n\\nonde λ é número esperado de ocorrências e k é o número possível de ocorrências.\\n\\nNesse caso, temos que na hora de maior movimento são recebidas, em média, 300 chamadas, o que corresponde a 5 chamadas por minuto (λ).\\n\\nAssim, a probabilidade de que a capacidade da mesa seja ultrapassada, ou seja, que em um minuto, seja recebido mais de 10 ligações (k) será:\\n\\nAssim, a probabilidade de ser recebido mais de 10 ligações por minuto é de 1,37%.\\n\\n'"
      ]
     },
     "execution_count": 21,
     "metadata": {},
     "output_type": "execute_result"
    }
   ],
   "source": [
    "#Distribuição Poisson\n",
    "\n",
    "#f(k,y) = (e^-y * y^k)/k!\n",
    "\"\"\"\n",
    "Temos pela Distribuição de Poisson que:\n",
    "\n",
    "onde λ é número esperado de ocorrências e k é o número possível de ocorrências.\n",
    "\n",
    "Nesse caso, temos que na hora de maior movimento são recebidas, em média, 300 chamadas, o que corresponde a 5 chamadas por minuto (λ).\n",
    "\n",
    "Assim, a probabilidade de que a capacidade da mesa seja ultrapassada, ou seja, que em um minuto, seja recebido mais de 10 ligações (k) será:\n",
    "\n",
    "Assim, a probabilidade de ser recebido mais de 10 ligações por minuto é de 1,37%.\n",
    "\n",
    "\"\"\""
   ]
  },
  {
   "cell_type": "code",
   "execution_count": null,
   "metadata": {},
   "outputs": [],
   "source": []
  }
 ],
 "metadata": {
  "kernelspec": {
   "display_name": "Python 3",
   "language": "python",
   "name": "python3"
  },
  "language_info": {
   "codemirror_mode": {
    "name": "ipython",
    "version": 3
   },
   "file_extension": ".py",
   "mimetype": "text/x-python",
   "name": "python",
   "nbconvert_exporter": "python",
   "pygments_lexer": "ipython3",
   "version": "3.7.3"
  }
 },
 "nbformat": 4,
 "nbformat_minor": 2
}
